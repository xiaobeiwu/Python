{
 "cells": [
  {
   "cell_type": "code",
   "execution_count": 1,
   "metadata": {},
   "outputs": [
    {
     "data": {
      "text/plain": [
       "21"
      ]
     },
     "execution_count": 1,
     "metadata": {},
     "output_type": "execute_result"
    }
   ],
   "source": [
    "3*7"
   ]
  },
  {
   "cell_type": "code",
   "execution_count": 2,
   "metadata": {},
   "outputs": [
    {
     "name": "stdout",
     "output_type": "stream",
     "text": [
      "3\n"
     ]
    }
   ],
   "source": [
    "print(3)"
   ]
  },
  {
   "cell_type": "markdown",
   "metadata": {},
   "source": [
    "# 一级标题\n",
    "## 二级标题\n",
    "### 三级标题\n",
    "####四级标题"
   ]
  },
  {
   "cell_type": "markdown",
   "metadata": {},
   "source": [
    "**加粗**"
   ]
  },
  {
   "cell_type": "markdown",
   "metadata": {},
   "source": [
    "*斜体*"
   ]
  },
  {
   "cell_type": "markdown",
   "metadata": {},
   "source": [
    "- 咖啡\n",
    "- 茶\n",
    "- 橙汁"
   ]
  },
  {
   "cell_type": "markdown",
   "metadata": {},
   "source": [
    "1.语文\n",
    "2.数学\n",
    "3.英语"
   ]
  },
  {
   "cell_type": "markdown",
   "metadata": {},
   "source": [
    "1. 语文\n",
    "2. 数学\n",
    "3. 英文"
   ]
  },
  {
   "cell_type": "markdown",
   "metadata": {},
   "source": [
    "|num1|num2|sum|\n",
    "|:----|:----:|-----:|\n",
    "|1|2|3|\n",
    "|3|4|7|\n",
    "|2|23|25|"
   ]
  },
  {
   "cell_type": "code",
   "execution_count": 3,
   "metadata": {},
   "outputs": [
    {
     "name": "stdout",
     "output_type": "stream",
     "text": [
      "Python是一种解释型、面向对象、动态数据类型的高级程序设计语言。Python由Guido van Rossum于1989年底发明，第一个公开发行版发行于1991年。对于大多数程序语言，第一个入门编程代码便是\"Hello World！\"，Python也是如此。\n"
     ]
    }
   ],
   "source": [
    "print('''Python是一种解释型、面向对象、动态数据类型的高级程序设计语言。Python由Guido van Rossum于1989年底发明，第一个公开发行版发行于1991年。对于大多数程序语言，第一个入门编程代码便是\"Hello World！\"，Python也是如此。''')"
   ]
  },
  {
   "cell_type": "code",
   "execution_count": 4,
   "metadata": {},
   "outputs": [
    {
     "name": "stdout",
     "output_type": "stream",
     "text": [
      "========== 欢迎来到Python作业练习 ==========\n"
     ]
    }
   ],
   "source": [
    "print(\"========== 欢迎来到Python作业练习 ==========\")"
   ]
  },
  {
   "cell_type": "markdown",
   "metadata": {},
   "source": [
    "|股票代码|股票名称|交易日|收盘价|收益率|\n",
    "|:----|:----|:----:|:----:|----:|----:|"
   ]
  },
  {
   "cell_type": "markdown",
   "metadata": {},
   "source": [
    "|**股票代码**|**股票名称**|**交易日**|**收盘价**|**收益率**|\n",
    "|:----:|:----:|:----|----:|----:|\n",
    "|600519.SH|贵州茅台|2018-01-02|703.85|0.91|\n",
    "|600519.SH|贵州茅台|2018-01-03|715.86|1.71|\n",
    "|600519.SH|贵州茅台|2018-01-04|737.07|2.96|"
   ]
  },
  {
   "cell_type": "code",
   "execution_count": null,
   "metadata": {},
   "outputs": [],
   "source": [
    "print"
   ]
  }
 ],
 "metadata": {
  "kernelspec": {
   "display_name": "Python 3",
   "language": "python",
   "name": "python3"
  },
  "language_info": {
   "codemirror_mode": {
    "name": "ipython",
    "version": 3
   },
   "file_extension": ".py",
   "mimetype": "text/x-python",
   "name": "python",
   "nbconvert_exporter": "python",
   "pygments_lexer": "ipython3",
   "version": "3.7.3"
  }
 },
 "nbformat": 4,
 "nbformat_minor": 2
}
