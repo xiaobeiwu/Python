{
 "cells": [
  {
   "cell_type": "markdown",
   "metadata": {},
   "source": [
    "#### 有如下变量hong和ming，列表各元素分别表示两人的体检信息，列表元素依次表示身高(cm)、体重(kg)、腰围(cm)、臀围(cm)、性别），请完成以下操作"
   ]
  },
  {
   "cell_type": "code",
   "execution_count": 2,
   "metadata": {},
   "outputs": [],
   "source": [
    "hong = [165, 50, 80, 100, '女']\n",
    "ming = [180, 90, 130, 130, '男']"
   ]
  },
  {
   "cell_type": "markdown",
   "metadata": {},
   "source": [
    "##### 1、BMI和WHR是描述人体肥胖情况的两个指标\n",
    "##### BMI=体重(kg) /身高(m)的平方\n",
    "##### WHR=腰围/臀围\n",
    "##### 请从列表中提取元素，分别计算两人的BMI和WHR\n",
    "##### Tips：访问元素进行数值计算"
   ]
  },
  {
   "cell_type": "code",
   "execution_count": 16,
   "metadata": {},
   "outputs": [
    {
     "data": {
      "text/plain": [
       "18.36547291092746"
      ]
     },
     "execution_count": 16,
     "metadata": {},
     "output_type": "execute_result"
    }
   ],
   "source": [
    "BMI_hong=hong[1]/((hong[0]/100)**2)\n",
    "BMI_hong"
   ]
  },
  {
   "cell_type": "code",
   "execution_count": 14,
   "metadata": {},
   "outputs": [
    {
     "data": {
      "text/plain": [
       "0.8"
      ]
     },
     "execution_count": 14,
     "metadata": {},
     "output_type": "execute_result"
    }
   ],
   "source": [
    "WHR_hong=hong[2]/hong[3]\n",
    "WHR_hong"
   ]
  },
  {
   "cell_type": "code",
   "execution_count": 19,
   "metadata": {},
   "outputs": [
    {
     "data": {
      "text/plain": [
       "27.777777777777775"
      ]
     },
     "execution_count": 19,
     "metadata": {},
     "output_type": "execute_result"
    }
   ],
   "source": [
    "BMI_ming=ming[1]/((ming[0]/100)**2)\n",
    "BMI_ming"
   ]
  },
  {
   "cell_type": "code",
   "execution_count": 20,
   "metadata": {},
   "outputs": [
    {
     "data": {
      "text/plain": [
       "1.0"
      ]
     },
     "execution_count": 20,
     "metadata": {},
     "output_type": "execute_result"
    }
   ],
   "source": [
    "WHR_ming=ming[2]/ming[3]\n",
    "WHR_ming"
   ]
  },
  {
   "cell_type": "markdown",
   "metadata": {},
   "source": [
    "##### 2、将二人的BMI和WHR指标值，作为新增元素加入初始列表末尾"
   ]
  },
  {
   "cell_type": "code",
   "execution_count": 34,
   "metadata": {},
   "outputs": [
    {
     "data": {
      "text/plain": [
       "[165, 50, 80, 100, '女', 18.36, 0.8]"
      ]
     },
     "execution_count": 34,
     "metadata": {},
     "output_type": "execute_result"
    }
   ],
   "source": [
    "hong.append(18.36)\n",
    "hong.append(0.8)\n",
    "hong"
   ]
  },
  {
   "cell_type": "code",
   "execution_count": 26,
   "metadata": {},
   "outputs": [
    {
     "data": {
      "text/plain": [
       "[180, 90, 130, 130, '男', 27.78, 1.0]"
      ]
     },
     "execution_count": 26,
     "metadata": {},
     "output_type": "execute_result"
    }
   ],
   "source": [
    "ming.append(27.78)\n",
    "ming.append(1.0)\n",
    "ming"
   ]
  },
  {
   "cell_type": "markdown",
   "metadata": {},
   "source": [
    "##### 3、请根据以下标准判断两人是否属于“肥胖”，分别生成布尔值，并增加到列表的第一位元素\n",
    "#### 成人的BMI数值：过轻：低于18.5，正常：18.5-23.9，超重：24-27.9，肥胖：大于28\n",
    "#### 男性的WHR：向心性肥胖：≥0.85\n",
    "#### 女性的WHR：向心性肥胖：≥0.8\n",
    "##### Tips：BMI和WHR对肥胖的定义中，满足任意一个即为判断为肥胖"
   ]
  },
  {
   "cell_type": "code",
   "execution_count": 39,
   "metadata": {},
   "outputs": [
    {
     "data": {
      "text/plain": [
       "False"
      ]
     },
     "execution_count": 39,
     "metadata": {},
     "output_type": "execute_result"
    }
   ],
   "source": [
    "f1_hong=hong[5] > 28\n",
    "f1_hong"
   ]
  },
  {
   "cell_type": "code",
   "execution_count": 41,
   "metadata": {},
   "outputs": [
    {
     "data": {
      "text/plain": [
       "True"
      ]
     },
     "execution_count": 41,
     "metadata": {},
     "output_type": "execute_result"
    }
   ],
   "source": [
    "f2_hong=hong[6]>=0.8\n",
    "f2_hong"
   ]
  },
  {
   "cell_type": "code",
   "execution_count": 72,
   "metadata": {},
   "outputs": [
    {
     "data": {
      "text/plain": [
       "[True, 50, 80, 100, '女', 18.36, 0.8]"
      ]
     },
     "execution_count": 72,
     "metadata": {},
     "output_type": "execute_result"
    }
   ],
   "source": [
    "hong.insert(0,f1_hong | f2_hong)\n",
    "hong"
   ]
  },
  {
   "cell_type": "code",
   "execution_count": 70,
   "metadata": {},
   "outputs": [
    {
     "data": {
      "text/plain": [
       "False"
      ]
     },
     "execution_count": 70,
     "metadata": {},
     "output_type": "execute_result"
    }
   ],
   "source": [
    "f1_ming=ming[5]>28\n",
    "f1_ming"
   ]
  },
  {
   "cell_type": "code",
   "execution_count": 46,
   "metadata": {},
   "outputs": [
    {
     "data": {
      "text/plain": [
       "True"
      ]
     },
     "execution_count": 46,
     "metadata": {},
     "output_type": "execute_result"
    }
   ],
   "source": [
    "f2_ming=ming[6]>=0.85\n",
    "f2_ming"
   ]
  },
  {
   "cell_type": "code",
   "execution_count": 76,
   "metadata": {},
   "outputs": [
    {
     "data": {
      "text/plain": [
       "[True, 90, 130, 130, '男', 27.78, 1.0]"
      ]
     },
     "execution_count": 76,
     "metadata": {},
     "output_type": "execute_result"
    }
   ],
   "source": [
    "ming.insert(0,f1_ming|f2_ming)\n",
    "ming"
   ]
  },
  {
   "cell_type": "markdown",
   "metadata": {},
   "source": [
    "##### 4、得知肥胖情况后，两人决定减肥，准备晚餐只吃水果。以下是列出的水果清单，请生成一个列表进行记录，并对水果进行降序排列\n",
    "#### banana，apple，pear，orange，peach，cherry，durian"
   ]
  },
  {
   "cell_type": "code",
   "execution_count": 50,
   "metadata": {},
   "outputs": [
    {
     "data": {
      "text/plain": [
       "['banana', 'apple', 'pear', 'orange', 'peach', 'cherry', 'durian']"
      ]
     },
     "execution_count": 50,
     "metadata": {},
     "output_type": "execute_result"
    }
   ],
   "source": [
    "fruit=['banana','apple','pear','orange','peach','cherry','durian']\n",
    "fruit"
   ]
  },
  {
   "cell_type": "code",
   "execution_count": 77,
   "metadata": {},
   "outputs": [
    {
     "data": {
      "text/plain": [
       "['pear', 'peach', 'orange', 'durian', 'cherry', 'banana', 'apple']"
      ]
     },
     "execution_count": 77,
     "metadata": {},
     "output_type": "execute_result"
    }
   ],
   "source": [
    "fruit.sort(reverse=True)\n",
    "fruit"
   ]
  },
  {
   "cell_type": "markdown",
   "metadata": {},
   "source": [
    "##### 5、小红想在今天晚上吃序数为奇数的水果，那么她能否吃到榴莲呢？\n",
    "##### Tips：切片操作结合成员资格进行判断"
   ]
  },
  {
   "cell_type": "code",
   "execution_count": 78,
   "metadata": {},
   "outputs": [
    {
     "data": {
      "text/plain": [
       "['pear', 'orange', 'cherry', 'apple']"
      ]
     },
     "execution_count": 78,
     "metadata": {},
     "output_type": "execute_result"
    }
   ],
   "source": [
    "fruit[::2]"
   ]
  },
  {
   "cell_type": "code",
   "execution_count": 79,
   "metadata": {},
   "outputs": [
    {
     "data": {
      "text/plain": [
       "False"
      ]
     },
     "execution_count": 79,
     "metadata": {},
     "output_type": "execute_result"
    }
   ],
   "source": [
    "'durian' in fruit[::2]"
   ]
  },
  {
   "cell_type": "code",
   "execution_count": null,
   "metadata": {},
   "outputs": [],
   "source": []
  }
 ],
 "metadata": {
  "kernelspec": {
   "display_name": "Python 3",
   "language": "python",
   "name": "python3"
  },
  "language_info": {
   "codemirror_mode": {
    "name": "ipython",
    "version": 3
   },
   "file_extension": ".py",
   "mimetype": "text/x-python",
   "name": "python",
   "nbconvert_exporter": "python",
   "pygments_lexer": "ipython3",
   "version": "3.7.3"
  }
 },
 "nbformat": 4,
 "nbformat_minor": 2
}
