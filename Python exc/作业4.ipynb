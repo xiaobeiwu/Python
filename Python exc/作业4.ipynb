{
 "cells": [
  {
   "cell_type": "markdown",
   "metadata": {},
   "source": [
    "#### 1、请实现下列字典操作\n",
    "#### ① 创建一个字典pc，包含如下信息：\n",
    "##### 品牌：DELL，型号：成就5000，价格：6499；\n",
    "#### ② 向字典中添加条目“颜色”和对应值\"灰\"；\n",
    "#### ③ 删除属性“型号”；\n",
    "#### ④ 修改属性“价格”为6699"
   ]
  },
  {
   "cell_type": "code",
   "execution_count": 2,
   "metadata": {},
   "outputs": [
    {
     "data": {
      "text/plain": [
       "{'品牌': 'DELL', '型号': '成就5000', '价格': 6499}"
      ]
     },
     "execution_count": 2,
     "metadata": {},
     "output_type": "execute_result"
    }
   ],
   "source": [
    "pc = {'品牌':'DELL','型号':'成就5000','价格':6499}\n",
    "pc"
   ]
  },
  {
   "cell_type": "code",
   "execution_count": 5,
   "metadata": {},
   "outputs": [
    {
     "data": {
      "text/plain": [
       "{'品牌': 'DELL', '型号': '成就5000', '价格': 6499, '颜色': '灰'}"
      ]
     },
     "execution_count": 5,
     "metadata": {},
     "output_type": "execute_result"
    }
   ],
   "source": [
    "pc['颜色']='灰'\n",
    "pc"
   ]
  },
  {
   "cell_type": "code",
   "execution_count": 6,
   "metadata": {},
   "outputs": [
    {
     "data": {
      "text/plain": [
       "{'品牌': 'DELL', '价格': 6499, '颜色': '灰'}"
      ]
     },
     "execution_count": 6,
     "metadata": {},
     "output_type": "execute_result"
    }
   ],
   "source": [
    "pc.pop('型号')\n",
    "pc"
   ]
  },
  {
   "cell_type": "code",
   "execution_count": 7,
   "metadata": {},
   "outputs": [
    {
     "data": {
      "text/plain": [
       "{'品牌': 'DELL', '价格': 6699, '颜色': '灰'}"
      ]
     },
     "execution_count": 7,
     "metadata": {},
     "output_type": "execute_result"
    }
   ],
   "source": [
    "pc['价格']=6699\n",
    "pc"
   ]
  },
  {
   "cell_type": "markdown",
   "metadata": {},
   "source": [
    "#### 2、请实现下列功能：\n",
    "##### 预先设定一个用户名和密码，然后从键盘获取用户名、密码，如果用户名和密码都正确，那么就显示“欢迎登陆”，否则提示“密码或者用户名错误”\n",
    "##### Tips：① 预先设定用户名和密码：可创建两个变量进行赋值；② 从键盘获取用户名和密码：使用input()；③ 进行条件判断"
   ]
  },
  {
   "cell_type": "code",
   "execution_count": 35,
   "metadata": {},
   "outputs": [
    {
     "name": "stdout",
     "output_type": "stream",
     "text": [
      "请输入用户名：abc\n",
      "请输入密码：1234\n",
      "欢迎登录\n"
     ]
    }
   ],
   "source": [
    "info={'username':'abc','password':'1234'}\n",
    "user=[info['username'],info['password']]\n",
    "username=input('请输入用户名：')\n",
    "password=input('请输入密码：')\n",
    "if (username in user) and (password in user):\n",
    "    print('欢迎登录')\n",
    "else:\n",
    "    print('密码或者用户名错误')"
   ]
  },
  {
   "cell_type": "code",
   "execution_count": 34,
   "metadata": {},
   "outputs": [
    {
     "name": "stdout",
     "output_type": "stream",
     "text": [
      "请输入用户名：1\n",
      "请输入密码：2\n",
      "密码或者用户名错误\n"
     ]
    }
   ],
   "source": [
    "info={'username':'Wendy','password':'1234'}\n",
    "user=[info['username'],info['password']]\n",
    "username=input('请输入用户名：')\n",
    "password=input('请输入密码：')\n",
    "if (username in user) & (password in user):\n",
    "    print('欢迎登录')\n",
    "else:\n",
    "    print('密码或者用户名错误')"
   ]
  },
  {
   "cell_type": "code",
   "execution_count": null,
   "metadata": {},
   "outputs": [],
   "source": []
  }
 ],
 "metadata": {
  "kernelspec": {
   "display_name": "Python 3",
   "language": "python",
   "name": "python3"
  },
  "language_info": {
   "codemirror_mode": {
    "name": "ipython",
    "version": 3
   },
   "file_extension": ".py",
   "mimetype": "text/x-python",
   "name": "python",
   "nbconvert_exporter": "python",
   "pygments_lexer": "ipython3",
   "version": "3.7.3"
  }
 },
 "nbformat": 4,
 "nbformat_minor": 2
}
