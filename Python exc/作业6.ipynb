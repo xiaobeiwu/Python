{
 "cells": [
  {
   "cell_type": "markdown",
   "metadata": {},
   "source": [
    "#### 用循环语句和列表生成式两种方法，将[3,4,2,5]和[6,8,4,2,9,1,5]中各个元素相乘后，存到列表中，再对列表求均值"
   ]
  },
  {
   "cell_type": "code",
   "execution_count": 23,
   "metadata": {},
   "outputs": [],
   "source": [
    "L1 = [3,4,2,5]\n",
    "L2 = [6,8,4,2,9,1,5]"
   ]
  },
  {
   "cell_type": "markdown",
   "metadata": {},
   "source": [
    "##### ① 列表生成式方法"
   ]
  },
  {
   "cell_type": "code",
   "execution_count": 30,
   "metadata": {},
   "outputs": [
    {
     "data": {
      "text/plain": [
       "[18,\n",
       " 24,\n",
       " 12,\n",
       " 6,\n",
       " 27,\n",
       " 3,\n",
       " 15,\n",
       " 24,\n",
       " 32,\n",
       " 16,\n",
       " 8,\n",
       " 36,\n",
       " 4,\n",
       " 20,\n",
       " 12,\n",
       " 16,\n",
       " 8,\n",
       " 4,\n",
       " 18,\n",
       " 2,\n",
       " 10,\n",
       " 30,\n",
       " 40,\n",
       " 20,\n",
       " 10,\n",
       " 45,\n",
       " 5,\n",
       " 25]"
      ]
     },
     "execution_count": 30,
     "metadata": {},
     "output_type": "execute_result"
    }
   ],
   "source": [
    "L=[i*j for i in L1 for j in L2]\n",
    "L"
   ]
  },
  {
   "cell_type": "code",
   "execution_count": 31,
   "metadata": {},
   "outputs": [
    {
     "data": {
      "text/plain": [
       "490"
      ]
     },
     "execution_count": 31,
     "metadata": {},
     "output_type": "execute_result"
    }
   ],
   "source": [
    "sum=0\n",
    "for x in L:\n",
    "    sum +=x\n",
    "sum"
   ]
  },
  {
   "cell_type": "code",
   "execution_count": 32,
   "metadata": {},
   "outputs": [
    {
     "data": {
      "text/plain": [
       "17.5"
      ]
     },
     "execution_count": 32,
     "metadata": {},
     "output_type": "execute_result"
    }
   ],
   "source": [
    "avg=sum/len(L3)\n",
    "avg"
   ]
  },
  {
   "cell_type": "markdown",
   "metadata": {},
   "source": [
    "##### ② 循环语句方法"
   ]
  },
  {
   "cell_type": "code",
   "execution_count": 17,
   "metadata": {},
   "outputs": [
    {
     "data": {
      "text/plain": [
       "17.5"
      ]
     },
     "execution_count": 17,
     "metadata": {},
     "output_type": "execute_result"
    }
   ],
   "source": [
    "result = []\n",
    "for i in L1:\n",
    "    for j in L2:\n",
    "        result.append(i*j)\n",
    "result\n",
    "sum = 0\n",
    "for y in result:\n",
    "    sum += y\n",
    "sum\n",
    "avg = sum / len(result)\n",
    "avg"
   ]
  }
 ],
 "metadata": {
  "kernelspec": {
   "display_name": "Python 3",
   "language": "python",
   "name": "python3"
  },
  "language_info": {
   "codemirror_mode": {
    "name": "ipython",
    "version": 3
   },
   "file_extension": ".py",
   "mimetype": "text/x-python",
   "name": "python",
   "nbconvert_exporter": "python",
   "pygments_lexer": "ipython3",
   "version": "3.7.3"
  }
 },
 "nbformat": 4,
 "nbformat_minor": 2
}
